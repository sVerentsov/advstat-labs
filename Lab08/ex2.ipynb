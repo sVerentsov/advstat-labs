{
 "cells": [
  {
   "cell_type": "code",
   "execution_count": 126,
   "metadata": {},
   "outputs": [],
   "source": [
    "import pandas as pd\n",
    "import numpy as np\n",
    "import matplotlib.pyplot as plt\n",
    "from scipy.optimize import minimize\n",
    "from tqdm import tqdm\n",
    "%matplotlib inline"
   ]
  },
  {
   "cell_type": "code",
   "execution_count": 5,
   "metadata": {
    "scrolled": true
   },
   "outputs": [],
   "source": [
    "data = pd.read_csv('./ds-boot-1.csv', sep='\\t')"
   ]
  },
  {
   "cell_type": "code",
   "execution_count": 9,
   "metadata": {},
   "outputs": [],
   "source": [
    "x = np.array(data.day)\n",
    "y = np.array(data.cummBugs)"
   ]
  },
  {
   "cell_type": "code",
   "execution_count": 147,
   "metadata": {
    "collapsed": true
   },
   "outputs": [],
   "source": [
    "def predict(a,b,x):\n",
    "    return a * (1 - (1 + b * x) * np.exp(-b * x))\n",
    "#     return a * np.power(b, np.power(c, x))"
   ]
  },
  {
   "cell_type": "code",
   "execution_count": 150,
   "metadata": {},
   "outputs": [],
   "source": [
    "def estimate(X, Y):\n",
    "    def loss(coefs):\n",
    "        return np.mean((predict(coefs[0],coefs[1], X) - Y) ** 2)\n",
    "    return minimize(loss,  [5000., 0.001], tol=1e-25).x"
   ]
  },
  {
   "cell_type": "code",
   "execution_count": 151,
   "metadata": {},
   "outputs": [
    {
     "data": {
      "text/plain": [
       "array([  8.54123045e+03,   1.85850121e-03])"
      ]
     },
     "execution_count": 151,
     "metadata": {},
     "output_type": "execute_result"
    }
   ],
   "source": [
    "coefs = estimate(x,y)\n",
    "coefs"
   ]
  },
  {
   "cell_type": "code",
   "execution_count": 153,
   "metadata": {},
   "outputs": [
    {
     "data": {
      "text/plain": [
       "[<matplotlib.lines.Line2D at 0x7feb1efb0510>]"
      ]
     },
     "execution_count": 153,
     "metadata": {},
     "output_type": "execute_result"
    },
    {
     "data": {
      "image/png": "[encoded data removed]",
      "text/plain": [
       "<matplotlib.figure.Figure at 0x7feb1efb0790>"
      ]
     },
     "metadata": {},
     "output_type": "display_data"
    }
   ],
   "source": [
    "plt.plot(predict(coefs[0], coefs[1], x))\n",
    "plt.plot(y)"
   ]
  },
  {
   "cell_type": "markdown",
   "metadata": {},
   "source": [
    "Bootstrap estimations:"
   ]
  },
  {
   "cell_type": "code",
   "execution_count": 165,
   "metadata": {},
   "outputs": [
    {
     "name": "stderr",
     "output_type": "stream",
     "text": [
      " 59%|█████▉    | 592/1000 [00:12<00:08, 46.04it/s]/home/sergey/anaconda3/envs/py27/lib/python2.7/site-packages/ipykernel/__main__.py:2: RuntimeWarning: overflow encountered in exp\n",
      "  from ipykernel import kernelapp as app\n",
      "/home/sergey/anaconda3/envs/py27/lib/python2.7/site-packages/ipykernel/__main__.py:2: RuntimeWarning: overflow encountered in multiply\n",
      "  from ipykernel import kernelapp as app\n",
      "/home/sergey/anaconda3/envs/py27/lib/python2.7/site-packages/ipykernel/__main__.py:3: RuntimeWarning: overflow encountered in square\n",
      "  app.launch_new_instance()\n",
      "100%|██████████| 1000/1000 [00:21<00:00, 46.48it/s]\n"
     ]
    }
   ],
   "source": [
    "exp_len = 900\n",
    "B = 1000\n",
    "bs_coefs = []\n",
    "for _ in tqdm(range(B)):\n",
    "    samp_len = np.random.geometric(1.0/(exp_len + 1.0))\n",
    "    if samp_len >= len(data):\n",
    "        samp_len = len(data) - 1\n",
    "    start_ind = np.random.randint(0, len(data) - samp_len)\n",
    "    samp_ind = np.array(range(start_ind, start_ind + samp_len))\n",
    "    x_bs = x[samp_ind]\n",
    "    y_bs = y[samp_ind]\n",
    "    bs_coefs.append(estimate(x_bs,y_bs))\n",
    "bs_coefs = np.array(bs_coefs)"
   ]
  },
  {
   "cell_type": "code",
   "execution_count": 166,
   "metadata": {},
   "outputs": [],
   "source": [
    "deltas = coefs - bs_coefs\n",
    "deltas_l = np.percentile(deltas, 2.5,axis = 0)\n",
    "deltas_r = np.percentile(deltas, 97.5,axis = 0)\n",
    "l_bound = coefs - deltas_r\n",
    "r_bound = coefs - deltas_l"
   ]
  },
  {
   "cell_type": "code",
   "execution_count": 167,
   "metadata": {},
   "outputs": [
    {
     "data": {
      "text/html": [
       "<div>\n",
       "<style>\n",
       "    .dataframe thead tr:only-child th {\n",
       "        text-align: right;\n",
       "    }\n",
       "\n",
       "    .dataframe thead th {\n",
       "        text-align: left;\n",
       "    }\n",
       "\n",
       "    .dataframe tbody tr th {\n",
       "        vertical-align: top;\n",
       "    }\n",
       "</style>\n",
       "<table border=\"1\" class=\"dataframe\">\n",
       "  <thead>\n",
       "    <tr style=\"text-align: right;\">\n",
       "      <th></th>\n",
       "      <th>est</th>\n",
       "      <th>l</th>\n",
       "      <th>r</th>\n",
       "    </tr>\n",
       "  </thead>\n",
       "  <tbody>\n",
       "    <tr>\n",
       "      <th>0</th>\n",
       "      <td>8541.230455</td>\n",
       "      <td>802.466984</td>\n",
       "      <td>1.888489e+06</td>\n",
       "    </tr>\n",
       "    <tr>\n",
       "      <th>1</th>\n",
       "      <td>0.001859</td>\n",
       "      <td>0.000087</td>\n",
       "      <td>1.012195e+00</td>\n",
       "    </tr>\n",
       "  </tbody>\n",
       "</table>\n",
       "</div>"
      ],
      "text/plain": [
       "           est           l             r\n",
       "0  8541.230455  802.466984  1.888489e+06\n",
       "1     0.001859    0.000087  1.012195e+00"
      ]
     },
     "execution_count": 167,
     "metadata": {},
     "output_type": "execute_result"
    }
   ],
   "source": [
    "pd.DataFrame([{'est': coefs[i],\n",
    "     'l': l_bound[i],\n",
    "     'r': r_bound[i]} for i in range(2)])"
   ]
  }
 ],
 "metadata": {
  "kernelspec": {
   "display_name": "Python [conda env:py27]",
   "language": "python",
   "name": "conda-env-py27-py"
  },
  "language_info": {
   "codemirror_mode": {
    "name": "ipython",
    "version": 2
   },
   "file_extension": ".py",
   "mimetype": "text/x-python",
   "name": "python",
   "nbconvert_exporter": "python",
   "pygments_lexer": "ipython2",
   "version": "2.7.13"
  }
 },
 "nbformat": 4,
 "nbformat_minor": 2
}
