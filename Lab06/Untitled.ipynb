{
 "cells": [
  {
   "cell_type": "code",
   "execution_count": 44,
   "metadata": {},
   "outputs": [],
   "source": [
    "import numpy as np\n",
    "from scipy.stats import norm\n",
    "from scipy.stats import kstest\n",
    "import statsmodels as sm\n",
    "import matplotlib.pyplot as plt\n",
    "%matplotlib inline\n",
    "N = 1000"
   ]
  },
  {
   "cell_type": "code",
   "execution_count": 36,
   "metadata": {
    "collapsed": true
   },
   "outputs": [],
   "source": [
    "norm_samp = np.random.standard_normal(size=N)\n",
    "exp_samp = np.random.laplace(size=N)\n",
    "t_samp = np.random.standard_t(df=3,size=N)\n",
    "lognorm_samp = np.random.lognormal(size=N)"
   ]
  },
  {
   "cell_type": "code",
   "execution_count": 37,
   "metadata": {},
   "outputs": [],
   "source": [
    "norm_sort = np.sort(norm_samp)\n",
    "exp_sort = np.sort(exp_samp)\n",
    "t_sort = np.sort(t_samp)\n",
    "lognorm_sort = np.sort(lognorm_samp)"
   ]
  },
  {
   "cell_type": "code",
   "execution_count": 38,
   "metadata": {
    "collapsed": true
   },
   "outputs": [],
   "source": [
    "d_norm = max([ \n",
    "    max([norm.cdf(y) - (i - 1) / N, i / N - norm.cdf(y)])  \n",
    "    for i,y in enumerate(norm_sort)])\n",
    "d_exp = max([ \n",
    "    max([norm.cdf(y) - (i - 1) / N, i / N - norm.cdf(y)])  \n",
    "    for i,y in enumerate(exp_sort)])\n",
    "d_t = max([ \n",
    "    max([norm.cdf(y) - (i - 1) / N, i / N - norm.cdf(y)])  \n",
    "    for i,y in enumerate(t_sort)])\n",
    "d_lognorm = max([ \n",
    "    max([norm.cdf(y) - (i - 1) / N, i / N - norm.cdf(y)])  \n",
    "    for i,y in enumerate(lognorm_sort)])"
   ]
  },
  {
   "cell_type": "code",
   "execution_count": 39,
   "metadata": {},
   "outputs": [
    {
     "name": "stdout",
     "output_type": "stream",
     "text": [
      "Critical value: 0.0429437306251\n",
      "0.0250740596421\n",
      "0.0426438018641\n",
      "0.0555406869949\n",
      "0.530922744562\n"
     ]
    }
   ],
   "source": [
    "print('Critical value:', 1.358 / np.sqrt(N))\n",
    "print(d_norm)\n",
    "print(d_exp)\n",
    "print(d_t)\n",
    "print(d_lognorm)"
   ]
  },
  {
   "cell_type": "code",
   "execution_count": 40,
   "metadata": {},
   "outputs": [
    {
     "name": "stdout",
     "output_type": "stream",
     "text": [
      "KstestResult(statistic=0.025700801171684523, pvalue=0.52357536528437421)\n",
      "KstestResult(statistic=0.04364380186407435, pvalue=0.043011300703235555)\n",
      "KstestResult(statistic=0.054540686994895005, pvalue=0.0050154545342784296)\n",
      "KstestResult(statistic=0.52992274456242527, pvalue=0.0)\n"
     ]
    }
   ],
   "source": [
    "print(kstest(norm_samp,'norm'))\n",
    "print(kstest(exp_samp,'norm'))\n",
    "print(kstest(t_samp,'norm'))\n",
    "print(kstest(lognorm_samp,'norm'))"
   ]
  },
  {
   "cell_type": "code",
   "execution_count": 45,
   "metadata": {},
   "outputs": [
    {
     "ename": "AttributeError",
     "evalue": "module 'statsmodels.tools' has no attribute 'ECDF'",
     "output_type": "error",
     "traceback": [
      "\u001b[1;31m---------------------------------------------------------------------------\u001b[0m",
      "\u001b[1;31mAttributeError\u001b[0m                            Traceback (most recent call last)",
      "\u001b[1;32m<ipython-input-45-cbd6e8d6f960>\u001b[0m in \u001b[0;36m<module>\u001b[1;34m()\u001b[0m\n\u001b[1;32m----> 1\u001b[1;33m \u001b[0msm\u001b[0m\u001b[1;33m.\u001b[0m\u001b[0mtools\u001b[0m\u001b[1;33m.\u001b[0m\u001b[0mECDF\u001b[0m\u001b[1;33m\u001b[0m\u001b[0m\n\u001b[0m",
      "\u001b[1;31mAttributeError\u001b[0m: module 'statsmodels.tools' has no attribute 'ECDF'"
     ]
    }
   ],
   "source": [
    "sm.err\n"
   ]
  },
  {
   "cell_type": "code",
   "execution_count": null,
   "metadata": {
    "collapsed": true
   },
   "outputs": [],
   "source": []
  }
 ],
 "metadata": {
  "kernelspec": {
   "display_name": "Python 3",
   "language": "python",
   "name": "python3"
  },
  "language_info": {
   "codemirror_mode": {
    "name": "ipython",
    "version": 3
   },
   "file_extension": ".py",
   "mimetype": "text/x-python",
   "name": "python",
   "nbconvert_exporter": "python",
   "pygments_lexer": "ipython3",
   "version": "3.6.1"
  }
 },
 "nbformat": 4,
 "nbformat_minor": 2
}
